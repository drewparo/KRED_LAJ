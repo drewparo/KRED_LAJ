{
  "cells": [
    {
      "cell_type": "markdown",
      "metadata": {
        "collapsed": true,
        "id": "ddk3QV5eOKGk"
      },
      "source": [
        "# Introduction"
      ]
    },
    {
      "cell_type": "markdown",
      "metadata": {
        "id": "v-8tE6SiOKGn"
      },
      "source": [
        "This repository is the implementation of [KRED: Knowledge-Aware Document Representation for News Recommendations](https://arxiv.org/abs/1910.11494) [1]\n"
      ]
    },
    {
      "cell_type": "markdown",
      "metadata": {
        "id": "YiBrPY1KOKGo"
      },
      "source": [
        "## Model description"
      ]
    },
    {
      "cell_type": "markdown",
      "metadata": {
        "id": "lTrKXZESOKGp"
      },
      "source": [
        "\n",
        "\n",
        "KRED is a knowledge enhanced framework which enhance a document embedding with knowledge information for multiple news recommendation tasks. The framework mainly contains two part: representation enhancement part(left) and multi-task training part(right)."
      ]
    },
    {
      "cell_type": "markdown",
      "metadata": {
        "id": "SFOAhK3gOKGp"
      },
      "source": [
        "![](./framework.PNG)"
      ]
    },
    {
      "cell_type": "markdown",
      "metadata": {
        "id": "LL2_3We0OKGp"
      },
      "source": [
        "## Dataset description and download\n",
        "\n",
        "MIND dataset [2] is a large-scale English news dataset. It was collected from anonymized behavior logs of Microsoft News website. MIND contains 1,000,000 users, 161,013 news articles and 15,777,377 impression logs. Every news article contains rich textual content including title, abstract, body, category and entities. Each impression log contains the click events, non-clicked events and historical news click behaviors of this user before this impression.\n",
        "\n",
        "For quicker training and evaluaiton, we sample MINDdemo dataset of 5k users from MIND small dataset. The MINDdemo dataset has the same file format as MINDsmall and MINDlarge. If you want to try experiments on MINDsmall and MINDlarge, please change the dowload source. Select the MIND_type parameter from ['large', 'small', 'demo'] to choose dataset.\n",
        "\n",
        "MINDdemo_train is used for training, and MINDdemo_dev is used for evaluation. Training data and evaluation data are composed of a news file and a behaviors file. You can find more detailed data description in [MIND repo](https://github.com/msnews/msnews.github.io/blob/master/assets/doc/introduction.md)"
      ]
    },
    {
      "cell_type": "code",
      "source": [
        "!pip install -U sentence-transformers"
      ],
      "metadata": {
        "id": "RWYAL4lqOWUR"
      },
      "execution_count": null,
      "outputs": []
    },
    {
      "cell_type": "code",
      "execution_count": null,
      "metadata": {
        "id": "7ebLcyA2OKGq",
        "outputId": "401d5b54-fb6c-4740-c33f-e7c7beae5453"
      },
      "outputs": [
        {
          "name": "stderr",
          "output_type": "stream",
          "text": [
            "100%|██████████| 17.0k/17.0k [00:03<00:00, 4.73kKB/s]\n",
            "100%|██████████| 9.84k/9.84k [00:02<00:00, 3.72kKB/s]\n",
            "100%|██████████| 3.22M/3.22M [34:50<00:00, 1.54kKB/s] \n"
          ]
        }
      ],
      "source": [
        "\n",
        "import os\n",
        "from utils.util import *\n",
        "from train_test import *\n",
        "\n",
        "MIND_type = 'small'\n",
        "data_path = \"./data/\"\n",
        "\n",
        "train_news_file = os.path.join(data_path, 'train', r'news.tsv')\n",
        "train_behaviors_file = os.path.join(data_path, 'train', r'behaviors.tsv')\n",
        "valid_news_file = os.path.join(data_path, 'valid', r'news.tsv')\n",
        "valid_behaviors_file = os.path.join(data_path, 'valid', r'behaviors.tsv')\n",
        "knowledge_graph_file = os.path.join(data_path, 'kg/wikidata-graph', r'wikidata-graph.tsv')\n",
        "entity_embedding_file = os.path.join(data_path, 'kg/wikidata-graph', r'entity2vecd100.vec')\n",
        "relation_embedding_file = os.path.join(data_path, 'kg/wikidata-graph', r'relation2vecd100.vec')\n",
        "\n",
        "mind_url, mind_train_dataset, mind_dev_dataset, _ = get_mind_data_set(MIND_type)\n",
        "\n",
        "\n",
        "if not os.path.exists(train_news_file):\n",
        "    download_deeprec_resources(mind_url, os.path.join(data_path, 'train'), mind_train_dataset)\n",
        "    \n",
        "if not os.path.exists(valid_news_file):\n",
        "    download_deeprec_resources(mind_url, \\\n",
        "                               os.path.join(data_path, 'valid'), mind_dev_dataset)\n",
        "\n",
        "kg_url = \"https://kredkg.blob.core.windows.net/wikidatakg/\"\n",
        "\n",
        "if not os.path.exists(knowledge_graph_file):\n",
        "    download_deeprec_resources(kg_url, os.path.join(data_path, 'kg'), \"kg.zip\")"
      ]
    },
    {
      "cell_type": "markdown",
      "metadata": {
        "id": "0yAU_udkOKGr"
      },
      "source": [
        "## loading config"
      ]
    },
    {
      "cell_type": "code",
      "execution_count": null,
      "metadata": {
        "id": "1SYUXImdOKGs",
        "outputId": "520fd24a-fa01-4d4a-9b99-ebc8782440dd"
      },
      "outputs": [
        {
          "name": "stderr",
          "output_type": "stream",
          "text": []
        },
        {
          "ename": "SystemExit",
          "evalue": "2",
          "traceback": [],
          "output_type": "error"
        },
        {
          "name": "stderr",
          "output_type": "stream",
          "text": []
        }
      ],
      "source": [
        "import sys\n",
        "import os\n",
        "#sys.path.append('')\n",
        "\n",
        "import argparse\n",
        "from parse_config import ConfigParser\n",
        "\n",
        "\n",
        "parser = argparse.ArgumentParser(description='KRED')\n",
        "\n",
        "parser.add_argument('-f')\n",
        "\n",
        "\n",
        "parser.add_argument('-c', '--config', default=\"./config.json\", type=str,\n",
        "                    help='config file path (default: None)')\n",
        "parser.add_argument('-r', '--resume', default=None, type=str,\n",
        "                    help='path to latest checkpoint (default: None)')\n",
        "parser.add_argument('-d', '--device', default=None, type=str,\n",
        "                    help='indices of GPUs to enable (default: all)')\n",
        "\n",
        "config = ConfigParser.from_args(parser)\n"
      ]
    },
    {
      "cell_type": "markdown",
      "metadata": {
        "id": "jY5xKfrvOKGs"
      },
      "source": [
        "## Create hyper-parameters"
      ]
    },
    {
      "cell_type": "code",
      "execution_count": null,
      "metadata": {
        "id": "drCVfJv6OKGs",
        "outputId": "94a09c06-f943-48a4-9d0b-3d1e104505e6"
      },
      "outputs": [
        {
          "name": "stdout",
          "output_type": "stream",
          "text": []
        }
      ],
      "source": [
        "epochs = 5\n",
        "batch_size = 64\n",
        "train_type = \"single_task\"\n",
        "task = \"user2item\" # task should be within: user2item, item2item, vert_classify, pop_predict\n",
        "\n",
        "config['trainer']['epochs'] = epochs\n",
        "config['data_loader']['batch_size'] = batch_size\n",
        "config['trainer']['training_type'] = train_type\n",
        "config['trainer']['task'] = task\n",
        "\n",
        "#config['data']['knowledge_graph'] "
      ]
    },
    {
      "cell_type": "markdown",
      "metadata": {
        "id": "keKClqF-OKGt"
      },
      "source": [
        "## Process dataset\n",
        "\n",
        "Since MIND dataset do not contain user's location information, we can not use local news \n"
      ]
    },
    {
      "cell_type": "code",
      "execution_count": null,
      "metadata": {
        "id": "xvJhOZe7OKGt",
        "outputId": "2236ec93-2488-4ed2-dd6f-a1f0639293ec"
      },
      "outputs": [
        {
          "name": "stdout",
          "output_type": "stream",
          "text": [
            "constructing embedding ... \n",
            "constructing adjacency matrix ... \n",
            "constructing news features ... \n",
            "constructing user2item dataset ... \n"
          ]
        }
      ],
      "source": [
        "data = load_data_mind(config)"
      ]
    },
    {
      "cell_type": "markdown",
      "metadata": {
        "id": "cS423tjkOKGt"
      },
      "source": [
        "## Train the KRED model"
      ]
    },
    {
      "cell_type": "code",
      "execution_count": null,
      "metadata": {
        "id": "XTp31l23OKGu",
        "outputId": "0b16ce80-2c95-42dc-accd-634dc56c1e12"
      },
      "outputs": [
        {
          "name": "stdout",
          "output_type": "stream",
          "text": [
            "at epoch 1\n",
            "train info: logloss loss:1.49154\n",
            "eval info: auc:0.5789\n",
            "at epoch 2\n",
            "train info: logloss loss:1.41551\n",
            "eval info: auc:0.607\n",
            "at epoch 3\n",
            "train info: logloss loss:1.36690\n",
            "eval info: auc:0.6199\n",
            "at epoch 4\n",
            "train info: logloss loss:1.34379\n",
            "eval info: auc:0.6329\n",
            "at epoch 5\n",
            "train info: logloss loss:1.31986\n",
            "eval info: auc:0.6272\n",
            "{eval info: 'auc': 0.6272, 'ndcg@10': 0.376}\n"
          ]
        }
      ],
      "source": [
        "if train_type == \"single_task\":\n",
        "    single_task_training(config, data)\n",
        "else:\n",
        "    multi_task_training(config, data)"
      ]
    },
    {
      "cell_type": "markdown",
      "metadata": {
        "id": "4UbQXlAnOKGu"
      },
      "source": [
        "## Evaluate the KRED model"
      ]
    },
    {
      "cell_type": "code",
      "execution_count": null,
      "metadata": {
        "id": "StH50itSOKGu",
        "outputId": "f755a4cb-f835-4f28-b84d-8676b7d337b3"
      },
      "outputs": [
        {
          "name": "stdout",
          "output_type": "stream",
          "text": [
            "{eval info: 'auc': 0.6272, 'ndcg@10': 0.376}\n"
          ]
        }
      ],
      "source": [
        "test_data = data[-1]\n",
        "testing(test_data, config)"
      ]
    },
    {
      "cell_type": "markdown",
      "metadata": {
        "id": "TFG0jdo9OKGu"
      },
      "source": [
        "## Performance on MINDlarge\n",
        "\n",
        "we test the performance on MINDlarge dev dataset for your reference:\n",
        "\n",
        "| Models | AUC | NDCG@10 |\n",
        "| :------- | :------- | :------- |\n",
        "| KRED(single task training) | 0.6702 | 0.4018 |\n",
        "| KRED(multi task training) |  0.6731 | 0.4039|\n"
      ]
    },
    {
      "cell_type": "markdown",
      "metadata": {
        "id": "sLg94HdZOKGu"
      },
      "source": [
        "## Reference"
      ]
    },
    {
      "cell_type": "markdown",
      "metadata": {
        "id": "uuNqFwZiOKGv"
      },
      "source": [
        "[1] Liu, Danyang, et al. \"KRED: Knowledge-Aware Document Representation for News Recommendations.\" Fourteenth ACM Conference on Recommender Systems. 2020.\n",
        "\n",
        "[2] Wu, Fangzhao, et al. \"MIND: A Large-scale Dataset for News Recommendation\" Proceedings of the 58th Annual Meeting of the Association for Computational Linguistics."
      ]
    },
    {
      "cell_type": "code",
      "execution_count": null,
      "metadata": {
        "id": "RY4BAWRcOKGv"
      },
      "outputs": [],
      "source": []
    }
  ],
  "metadata": {
    "kernelspec": {
      "display_name": "Python 3",
      "language": "python",
      "name": "python3"
    },
    "language_info": {
      "codemirror_mode": {
        "name": "ipython",
        "version": 3
      },
      "file_extension": ".py",
      "mimetype": "text/x-python",
      "name": "python",
      "nbconvert_exporter": "python",
      "pygments_lexer": "ipython3",
      "version": "3.7.3"
    },
    "colab": {
      "provenance": []
    }
  },
  "nbformat": 4,
  "nbformat_minor": 0
}