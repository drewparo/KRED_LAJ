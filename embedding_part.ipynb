{
 "cells": [
  {
   "cell_type": "code",
   "execution_count": 26,
   "outputs": [],
   "source": [
    "import sys\n",
    "import os\n",
    "#sys.path.append('/content/KRED_LAJ')\n",
    "\n",
    "import argparse\n",
    "\n",
    "import numpy as np\n",
    "\n",
    "from parse_config import ConfigParser\n",
    "\n",
    "\n",
    "parser = argparse.ArgumentParser(description='KRED')\n",
    "\n",
    "parser.add_argument('-f')\n",
    "\n",
    "\n",
    "parser.add_argument('-c', '--config', default=\"./config.json\", type=str,\n",
    "                    help='config file path (default: None)')\n",
    "parser.add_argument('-r', '--resume', default=None, type=str,\n",
    "                    help='path to latest checkpoint (default: None)')\n",
    "parser.add_argument('-d', '--device', default='1', type=str,\n",
    "                    help='indices of GPUs to enable (default: all)')\n",
    "\n",
    "config = ConfigParser.from_args(parser)"
   ],
   "metadata": {
    "collapsed": false
   }
  },
  {
   "cell_type": "code",
   "execution_count": 27,
   "outputs": [
    {
     "ename": "UnpicklingError",
     "evalue": "Failed to interpret file './data/kg/wikidata-graph/entity2vecd100.vec' as a pickle",
     "output_type": "error",
     "traceback": [
      "\u001B[0;31m---------------------------------------------------------------------------\u001B[0m",
      "\u001B[0;31mUnpicklingError\u001B[0m                           Traceback (most recent call last)",
      "File \u001B[0;32m~/KRED_LAJ/venv/lib/python3.10/site-packages/numpy/lib/npyio.py:441\u001B[0m, in \u001B[0;36mload\u001B[0;34m(file, mmap_mode, allow_pickle, fix_imports, encoding, max_header_size)\u001B[0m\n\u001B[1;32m    440\u001B[0m \u001B[38;5;28;01mtry\u001B[39;00m:\n\u001B[0;32m--> 441\u001B[0m     \u001B[38;5;28;01mreturn\u001B[39;00m \u001B[43mpickle\u001B[49m\u001B[38;5;241;43m.\u001B[39;49m\u001B[43mload\u001B[49m\u001B[43m(\u001B[49m\u001B[43mfid\u001B[49m\u001B[43m,\u001B[49m\u001B[43m \u001B[49m\u001B[38;5;241;43m*\u001B[39;49m\u001B[38;5;241;43m*\u001B[39;49m\u001B[43mpickle_kwargs\u001B[49m\u001B[43m)\u001B[49m\n\u001B[1;32m    442\u001B[0m \u001B[38;5;28;01mexcept\u001B[39;00m \u001B[38;5;167;01mException\u001B[39;00m \u001B[38;5;28;01mas\u001B[39;00m e:\n",
      "\u001B[0;31mUnpicklingError\u001B[0m: unpickling stack underflow",
      "\nThe above exception was the direct cause of the following exception:\n",
      "\u001B[0;31mUnpicklingError\u001B[0m                           Traceback (most recent call last)",
      "Cell \u001B[0;32mIn [27], line 5\u001B[0m\n\u001B[1;32m      2\u001B[0m \u001B[38;5;28;01mimport\u001B[39;00m \u001B[38;5;21;01mtorch\u001B[39;00m\n\u001B[1;32m      3\u001B[0m \u001B[38;5;28;01mimport\u001B[39;00m \u001B[38;5;21;01mnumpy\u001B[39;00m \u001B[38;5;28;01mas\u001B[39;00m \u001B[38;5;21;01mnp\u001B[39;00m\n\u001B[0;32m----> 5\u001B[0m entity2vecd100 \u001B[38;5;241m=\u001B[39m \u001B[43mnp\u001B[49m\u001B[38;5;241;43m.\u001B[39;49m\u001B[43mload\u001B[49m\u001B[43m(\u001B[49m\u001B[38;5;124;43m\"\u001B[39;49m\u001B[38;5;124;43m./data/kg/wikidata-graph/entity2vecd100.vec\u001B[39;49m\u001B[38;5;124;43m\"\u001B[39;49m\u001B[43m,\u001B[49m\u001B[43mallow_pickle\u001B[49m\u001B[38;5;241;43m=\u001B[39;49m\u001B[38;5;28;43;01mTrue\u001B[39;49;00m\u001B[43m)\u001B[49m\n",
      "File \u001B[0;32m~/KRED_LAJ/venv/lib/python3.10/site-packages/numpy/lib/npyio.py:443\u001B[0m, in \u001B[0;36mload\u001B[0;34m(file, mmap_mode, allow_pickle, fix_imports, encoding, max_header_size)\u001B[0m\n\u001B[1;32m    441\u001B[0m     \u001B[38;5;28;01mreturn\u001B[39;00m pickle\u001B[38;5;241m.\u001B[39mload(fid, \u001B[38;5;241m*\u001B[39m\u001B[38;5;241m*\u001B[39mpickle_kwargs)\n\u001B[1;32m    442\u001B[0m \u001B[38;5;28;01mexcept\u001B[39;00m \u001B[38;5;167;01mException\u001B[39;00m \u001B[38;5;28;01mas\u001B[39;00m e:\n\u001B[0;32m--> 443\u001B[0m     \u001B[38;5;28;01mraise\u001B[39;00m pickle\u001B[38;5;241m.\u001B[39mUnpicklingError(\n\u001B[1;32m    444\u001B[0m         \u001B[38;5;124mf\u001B[39m\u001B[38;5;124m\"\u001B[39m\u001B[38;5;124mFailed to interpret file \u001B[39m\u001B[38;5;132;01m{\u001B[39;00mfile\u001B[38;5;132;01m!r}\u001B[39;00m\u001B[38;5;124m as a pickle\u001B[39m\u001B[38;5;124m\"\u001B[39m) \u001B[38;5;28;01mfrom\u001B[39;00m \u001B[38;5;21;01me\u001B[39;00m\n",
      "\u001B[0;31mUnpicklingError\u001B[0m: Failed to interpret file './data/kg/wikidata-graph/entity2vecd100.vec' as a pickle"
     ]
    }
   ],
   "source": [
    "import io\n",
    "import torch\n",
    "import numpy as np\n",
    "\n",
    "entity2vecd100 = np.load(\"./data/kg/wikidata-graph/entity2vecd100.vec\",allow_pickle=True)\n"
   ],
   "metadata": {
    "collapsed": false
   }
  },
  {
   "cell_type": "code",
   "execution_count": 4,
   "outputs": [],
   "source": [
    "import pandas as pd\n",
    "entity2vecd100 = pd.read_csv(\"./data/kg/wikidata-graph/entity2vecd100.vec\", sep='\\t', header=None, encoding='utf-8')"
   ],
   "metadata": {
    "collapsed": false
   }
  },
  {
   "cell_type": "code",
   "execution_count": 19,
   "outputs": [
    {
     "data": {
      "text/plain": "              0         1         2         3         4         5         6    \\\n0        0.014516 -0.106958  0.024590  0.105582 -0.043000  0.054433  0.089460   \n1       -0.140482 -0.161893 -0.026637  0.008265  0.071093 -0.046065  0.013635   \n2        0.023351 -0.002696  0.024601 -0.015246  0.156361  0.017052  0.012879   \n3       -0.078673 -0.065505  0.043761 -0.056116 -0.106057 -0.082797 -0.032081   \n4       -0.021592 -0.043750  0.100048 -0.046179  0.013072  0.142498  0.000222   \n...           ...       ...       ...       ...       ...       ...       ...   \n3241384  0.017504 -0.005232 -0.006996  0.025249 -0.036645 -0.008973  0.019565   \n3241385 -0.076337 -0.105750  0.029887 -0.002538  0.007229  0.058067  0.018351   \n3241386  0.015876  0.021837  0.004336  0.066734 -0.051642  0.013445  0.028437   \n3241387 -0.009223  0.001079  0.044946  0.004754 -0.064250 -0.009083  0.009896   \n3241388  0.026353  0.018975  0.038488  0.063313 -0.007232  0.056088  0.058718   \n\n              7         8         9    ...       91        92        93   \\\n0       -0.084990  0.024047  0.002014  ...  0.077379  0.016486 -0.044436   \n1       -0.093475  0.155408 -0.119904  ... -0.101093  0.019820 -0.027386   \n2        0.004260  0.041733  0.151809  ...  0.180690  0.085175 -0.173805   \n3       -0.034286  0.023506  0.126747  ...  0.046072 -0.122389 -0.064023   \n4       -0.181792 -0.002394  0.083424  ... -0.069674  0.128938 -0.066603   \n...           ...       ...       ...  ...       ...       ...       ...   \n3241384 -0.051578 -0.003668  0.014040  ...  0.055795  0.000950 -0.057699   \n3241385 -0.078825  0.097392  0.036922  ...  0.029276 -0.043539  0.047730   \n3241386  0.000986  0.025529  0.001415  ... -0.038224 -0.028185 -0.026078   \n3241387  0.035090  0.043316 -0.007017  ...  0.005992 -0.008823 -0.010597   \n3241388  0.029958 -0.012464  0.054547  ...       NaN       NaN       NaN   \n\n              94        95        96        97        98        99   100  \n0       -0.101614  0.109215 -0.027571 -0.047564 -0.018954 -0.080382  NaN  \n1        0.020886  0.187492 -0.079630  0.014031 -0.008871 -0.172550  NaN  \n2       -0.057849 -0.014259  0.025491 -0.058345  0.104696 -0.171260  NaN  \n3       -0.016663 -0.058905  0.025900 -0.097765  0.165669  0.016899  NaN  \n4       -0.061807  0.121690  0.040924 -0.065453 -0.016193  0.002945  NaN  \n...           ...       ...       ...       ...       ...       ...  ...  \n3241384 -0.064290  0.002221  0.022164 -0.045107  0.022700 -0.021541  NaN  \n3241385  0.012073  0.051322 -0.048438 -0.039909  0.009263  0.019832  NaN  \n3241386  0.000295 -0.015846  0.075464 -0.023112 -0.094619 -0.018297  NaN  \n3241387  0.000981  0.012758  0.052368 -0.062075 -0.077451 -0.003784  NaN  \n3241388       NaN       NaN       NaN       NaN       NaN       NaN  NaN  \n\n[3241389 rows x 101 columns]",
      "text/html": "<div>\n<style scoped>\n    .dataframe tbody tr th:only-of-type {\n        vertical-align: middle;\n    }\n\n    .dataframe tbody tr th {\n        vertical-align: top;\n    }\n\n    .dataframe thead th {\n        text-align: right;\n    }\n</style>\n<table border=\"1\" class=\"dataframe\">\n  <thead>\n    <tr style=\"text-align: right;\">\n      <th></th>\n      <th>0</th>\n      <th>1</th>\n      <th>2</th>\n      <th>3</th>\n      <th>4</th>\n      <th>5</th>\n      <th>6</th>\n      <th>7</th>\n      <th>8</th>\n      <th>9</th>\n      <th>...</th>\n      <th>91</th>\n      <th>92</th>\n      <th>93</th>\n      <th>94</th>\n      <th>95</th>\n      <th>96</th>\n      <th>97</th>\n      <th>98</th>\n      <th>99</th>\n      <th>100</th>\n    </tr>\n  </thead>\n  <tbody>\n    <tr>\n      <th>0</th>\n      <td>0.014516</td>\n      <td>-0.106958</td>\n      <td>0.024590</td>\n      <td>0.105582</td>\n      <td>-0.043000</td>\n      <td>0.054433</td>\n      <td>0.089460</td>\n      <td>-0.084990</td>\n      <td>0.024047</td>\n      <td>0.002014</td>\n      <td>...</td>\n      <td>0.077379</td>\n      <td>0.016486</td>\n      <td>-0.044436</td>\n      <td>-0.101614</td>\n      <td>0.109215</td>\n      <td>-0.027571</td>\n      <td>-0.047564</td>\n      <td>-0.018954</td>\n      <td>-0.080382</td>\n      <td>NaN</td>\n    </tr>\n    <tr>\n      <th>1</th>\n      <td>-0.140482</td>\n      <td>-0.161893</td>\n      <td>-0.026637</td>\n      <td>0.008265</td>\n      <td>0.071093</td>\n      <td>-0.046065</td>\n      <td>0.013635</td>\n      <td>-0.093475</td>\n      <td>0.155408</td>\n      <td>-0.119904</td>\n      <td>...</td>\n      <td>-0.101093</td>\n      <td>0.019820</td>\n      <td>-0.027386</td>\n      <td>0.020886</td>\n      <td>0.187492</td>\n      <td>-0.079630</td>\n      <td>0.014031</td>\n      <td>-0.008871</td>\n      <td>-0.172550</td>\n      <td>NaN</td>\n    </tr>\n    <tr>\n      <th>2</th>\n      <td>0.023351</td>\n      <td>-0.002696</td>\n      <td>0.024601</td>\n      <td>-0.015246</td>\n      <td>0.156361</td>\n      <td>0.017052</td>\n      <td>0.012879</td>\n      <td>0.004260</td>\n      <td>0.041733</td>\n      <td>0.151809</td>\n      <td>...</td>\n      <td>0.180690</td>\n      <td>0.085175</td>\n      <td>-0.173805</td>\n      <td>-0.057849</td>\n      <td>-0.014259</td>\n      <td>0.025491</td>\n      <td>-0.058345</td>\n      <td>0.104696</td>\n      <td>-0.171260</td>\n      <td>NaN</td>\n    </tr>\n    <tr>\n      <th>3</th>\n      <td>-0.078673</td>\n      <td>-0.065505</td>\n      <td>0.043761</td>\n      <td>-0.056116</td>\n      <td>-0.106057</td>\n      <td>-0.082797</td>\n      <td>-0.032081</td>\n      <td>-0.034286</td>\n      <td>0.023506</td>\n      <td>0.126747</td>\n      <td>...</td>\n      <td>0.046072</td>\n      <td>-0.122389</td>\n      <td>-0.064023</td>\n      <td>-0.016663</td>\n      <td>-0.058905</td>\n      <td>0.025900</td>\n      <td>-0.097765</td>\n      <td>0.165669</td>\n      <td>0.016899</td>\n      <td>NaN</td>\n    </tr>\n    <tr>\n      <th>4</th>\n      <td>-0.021592</td>\n      <td>-0.043750</td>\n      <td>0.100048</td>\n      <td>-0.046179</td>\n      <td>0.013072</td>\n      <td>0.142498</td>\n      <td>0.000222</td>\n      <td>-0.181792</td>\n      <td>-0.002394</td>\n      <td>0.083424</td>\n      <td>...</td>\n      <td>-0.069674</td>\n      <td>0.128938</td>\n      <td>-0.066603</td>\n      <td>-0.061807</td>\n      <td>0.121690</td>\n      <td>0.040924</td>\n      <td>-0.065453</td>\n      <td>-0.016193</td>\n      <td>0.002945</td>\n      <td>NaN</td>\n    </tr>\n    <tr>\n      <th>...</th>\n      <td>...</td>\n      <td>...</td>\n      <td>...</td>\n      <td>...</td>\n      <td>...</td>\n      <td>...</td>\n      <td>...</td>\n      <td>...</td>\n      <td>...</td>\n      <td>...</td>\n      <td>...</td>\n      <td>...</td>\n      <td>...</td>\n      <td>...</td>\n      <td>...</td>\n      <td>...</td>\n      <td>...</td>\n      <td>...</td>\n      <td>...</td>\n      <td>...</td>\n      <td>...</td>\n    </tr>\n    <tr>\n      <th>3241384</th>\n      <td>0.017504</td>\n      <td>-0.005232</td>\n      <td>-0.006996</td>\n      <td>0.025249</td>\n      <td>-0.036645</td>\n      <td>-0.008973</td>\n      <td>0.019565</td>\n      <td>-0.051578</td>\n      <td>-0.003668</td>\n      <td>0.014040</td>\n      <td>...</td>\n      <td>0.055795</td>\n      <td>0.000950</td>\n      <td>-0.057699</td>\n      <td>-0.064290</td>\n      <td>0.002221</td>\n      <td>0.022164</td>\n      <td>-0.045107</td>\n      <td>0.022700</td>\n      <td>-0.021541</td>\n      <td>NaN</td>\n    </tr>\n    <tr>\n      <th>3241385</th>\n      <td>-0.076337</td>\n      <td>-0.105750</td>\n      <td>0.029887</td>\n      <td>-0.002538</td>\n      <td>0.007229</td>\n      <td>0.058067</td>\n      <td>0.018351</td>\n      <td>-0.078825</td>\n      <td>0.097392</td>\n      <td>0.036922</td>\n      <td>...</td>\n      <td>0.029276</td>\n      <td>-0.043539</td>\n      <td>0.047730</td>\n      <td>0.012073</td>\n      <td>0.051322</td>\n      <td>-0.048438</td>\n      <td>-0.039909</td>\n      <td>0.009263</td>\n      <td>0.019832</td>\n      <td>NaN</td>\n    </tr>\n    <tr>\n      <th>3241386</th>\n      <td>0.015876</td>\n      <td>0.021837</td>\n      <td>0.004336</td>\n      <td>0.066734</td>\n      <td>-0.051642</td>\n      <td>0.013445</td>\n      <td>0.028437</td>\n      <td>0.000986</td>\n      <td>0.025529</td>\n      <td>0.001415</td>\n      <td>...</td>\n      <td>-0.038224</td>\n      <td>-0.028185</td>\n      <td>-0.026078</td>\n      <td>0.000295</td>\n      <td>-0.015846</td>\n      <td>0.075464</td>\n      <td>-0.023112</td>\n      <td>-0.094619</td>\n      <td>-0.018297</td>\n      <td>NaN</td>\n    </tr>\n    <tr>\n      <th>3241387</th>\n      <td>-0.009223</td>\n      <td>0.001079</td>\n      <td>0.044946</td>\n      <td>0.004754</td>\n      <td>-0.064250</td>\n      <td>-0.009083</td>\n      <td>0.009896</td>\n      <td>0.035090</td>\n      <td>0.043316</td>\n      <td>-0.007017</td>\n      <td>...</td>\n      <td>0.005992</td>\n      <td>-0.008823</td>\n      <td>-0.010597</td>\n      <td>0.000981</td>\n      <td>0.012758</td>\n      <td>0.052368</td>\n      <td>-0.062075</td>\n      <td>-0.077451</td>\n      <td>-0.003784</td>\n      <td>NaN</td>\n    </tr>\n    <tr>\n      <th>3241388</th>\n      <td>0.026353</td>\n      <td>0.018975</td>\n      <td>0.038488</td>\n      <td>0.063313</td>\n      <td>-0.007232</td>\n      <td>0.056088</td>\n      <td>0.058718</td>\n      <td>0.029958</td>\n      <td>-0.012464</td>\n      <td>0.054547</td>\n      <td>...</td>\n      <td>NaN</td>\n      <td>NaN</td>\n      <td>NaN</td>\n      <td>NaN</td>\n      <td>NaN</td>\n      <td>NaN</td>\n      <td>NaN</td>\n      <td>NaN</td>\n      <td>NaN</td>\n      <td>NaN</td>\n    </tr>\n  </tbody>\n</table>\n<p>3241389 rows × 101 columns</p>\n</div>"
     },
     "execution_count": 19,
     "metadata": {},
     "output_type": "execute_result"
    }
   ],
   "source": [
    "entity2vecd100"
   ],
   "metadata": {
    "collapsed": false
   }
  },
  {
   "cell_type": "code",
   "execution_count": 5,
   "outputs": [],
   "source": [
    "entity2d100 = pd.read_csv(\"./data/kg/wikidata-graph/entity2id.txt\", sep='\\t',skiprows=1, header=None, encoding='utf-8',names=['entity','id'])\n"
   ],
   "metadata": {
    "collapsed": false
   }
  },
  {
   "cell_type": "code",
   "execution_count": 22,
   "outputs": [
    {
     "data": {
      "text/plain": "           0         1         2         3         4         5         6    \\\n0    -0.073467 -0.132227  0.034173 -0.032769  0.008289 -0.107088 -0.031712   \n1    -0.078436  0.108589 -0.049429 -0.131355  0.049300 -0.094605 -0.101469   \n2    -0.052137  0.052444 -0.019886 -0.152309  0.014144 -0.180491 -0.132198   \n3    -0.051398  0.056219  0.068029 -0.137717 -0.030050  0.061566 -0.103184   \n4     0.091231  0.022526  0.059349 -0.141853  0.035025 -0.111040 -0.127337   \n...        ...       ...       ...       ...       ...       ...       ...   \n1086 -0.019021  0.001183 -0.009602 -0.040833 -0.026919 -0.000777 -0.008379   \n1087 -0.018365  0.028526 -0.025934  0.032296 -0.015580 -0.012719 -0.009017   \n1088 -0.026819  0.003231 -0.011298 -0.015206  0.013172 -0.033084  0.026422   \n1089  0.003554 -0.041121 -0.010559 -0.037862 -0.003736 -0.002184 -0.015868   \n1090 -0.023617 -0.021648  0.009369 -0.021757  0.020885 -0.020526 -0.027134   \n\n           7         8         9    ...       91        92        93   \\\n0    -0.039581  0.101882 -0.106961  ... -0.050068 -0.053686 -0.045389   \n1     0.127802 -0.081245  0.113759  ...  0.074341 -0.030571 -0.137183   \n2     0.063082  0.085229  0.114965  ... -0.058958 -0.032021 -0.147213   \n3    -0.074124 -0.118975  0.122100  ... -0.092234  0.056870  0.013640   \n4     0.047645 -0.172328  0.090933  ... -0.046994 -0.056248 -0.146538   \n...        ...       ...       ...  ...       ...       ...       ...   \n1086  0.002261 -0.010804  0.026316  ... -0.032050 -0.002357 -0.049197   \n1087  0.006737 -0.001155 -0.029791  ... -0.006468 -0.006864  0.004695   \n1088 -0.005384  0.033045  0.010320  ... -0.002927 -0.013136  0.018877   \n1089  0.029463  0.023216  0.006384  ...  0.020671 -0.011002  0.041005   \n1090  0.005834  0.026317 -0.027069  ... -0.023417  0.013911 -0.007208   \n\n           94        95        96        97        98        99   100  \n0    -0.037017  0.117190 -0.063597 -0.056910  0.058387 -0.114056  NaN  \n1     0.045598 -0.151155 -0.066223  0.057489  0.130188 -0.054801  NaN  \n2     0.082776 -0.169705  0.122445 -0.054737  0.055321  0.070961  NaN  \n3     0.042696  0.013683 -0.021127 -0.189257  0.055315  0.101863  NaN  \n4     0.121375 -0.211757  0.077591 -0.002200 -0.053880  0.140873  NaN  \n...        ...       ...       ...       ...       ...       ...  ...  \n1086 -0.023061 -0.027072  0.035122 -0.006339 -0.028845 -0.005709  NaN  \n1087 -0.015650  0.031345 -0.008722  0.024273  0.001479  0.032974  NaN  \n1088 -0.015216 -0.006110  0.013847 -0.002365  0.034509 -0.003884  NaN  \n1089 -0.022877 -0.055011  0.002874 -0.014109 -0.012319 -0.004955  NaN  \n1090  0.012723 -0.008430 -0.005681  0.022748 -0.018340  0.006243  NaN  \n\n[1091 rows x 101 columns]",
      "text/html": "<div>\n<style scoped>\n    .dataframe tbody tr th:only-of-type {\n        vertical-align: middle;\n    }\n\n    .dataframe tbody tr th {\n        vertical-align: top;\n    }\n\n    .dataframe thead th {\n        text-align: right;\n    }\n</style>\n<table border=\"1\" class=\"dataframe\">\n  <thead>\n    <tr style=\"text-align: right;\">\n      <th></th>\n      <th>0</th>\n      <th>1</th>\n      <th>2</th>\n      <th>3</th>\n      <th>4</th>\n      <th>5</th>\n      <th>6</th>\n      <th>7</th>\n      <th>8</th>\n      <th>9</th>\n      <th>...</th>\n      <th>91</th>\n      <th>92</th>\n      <th>93</th>\n      <th>94</th>\n      <th>95</th>\n      <th>96</th>\n      <th>97</th>\n      <th>98</th>\n      <th>99</th>\n      <th>100</th>\n    </tr>\n  </thead>\n  <tbody>\n    <tr>\n      <th>0</th>\n      <td>-0.073467</td>\n      <td>-0.132227</td>\n      <td>0.034173</td>\n      <td>-0.032769</td>\n      <td>0.008289</td>\n      <td>-0.107088</td>\n      <td>-0.031712</td>\n      <td>-0.039581</td>\n      <td>0.101882</td>\n      <td>-0.106961</td>\n      <td>...</td>\n      <td>-0.050068</td>\n      <td>-0.053686</td>\n      <td>-0.045389</td>\n      <td>-0.037017</td>\n      <td>0.117190</td>\n      <td>-0.063597</td>\n      <td>-0.056910</td>\n      <td>0.058387</td>\n      <td>-0.114056</td>\n      <td>NaN</td>\n    </tr>\n    <tr>\n      <th>1</th>\n      <td>-0.078436</td>\n      <td>0.108589</td>\n      <td>-0.049429</td>\n      <td>-0.131355</td>\n      <td>0.049300</td>\n      <td>-0.094605</td>\n      <td>-0.101469</td>\n      <td>0.127802</td>\n      <td>-0.081245</td>\n      <td>0.113759</td>\n      <td>...</td>\n      <td>0.074341</td>\n      <td>-0.030571</td>\n      <td>-0.137183</td>\n      <td>0.045598</td>\n      <td>-0.151155</td>\n      <td>-0.066223</td>\n      <td>0.057489</td>\n      <td>0.130188</td>\n      <td>-0.054801</td>\n      <td>NaN</td>\n    </tr>\n    <tr>\n      <th>2</th>\n      <td>-0.052137</td>\n      <td>0.052444</td>\n      <td>-0.019886</td>\n      <td>-0.152309</td>\n      <td>0.014144</td>\n      <td>-0.180491</td>\n      <td>-0.132198</td>\n      <td>0.063082</td>\n      <td>0.085229</td>\n      <td>0.114965</td>\n      <td>...</td>\n      <td>-0.058958</td>\n      <td>-0.032021</td>\n      <td>-0.147213</td>\n      <td>0.082776</td>\n      <td>-0.169705</td>\n      <td>0.122445</td>\n      <td>-0.054737</td>\n      <td>0.055321</td>\n      <td>0.070961</td>\n      <td>NaN</td>\n    </tr>\n    <tr>\n      <th>3</th>\n      <td>-0.051398</td>\n      <td>0.056219</td>\n      <td>0.068029</td>\n      <td>-0.137717</td>\n      <td>-0.030050</td>\n      <td>0.061566</td>\n      <td>-0.103184</td>\n      <td>-0.074124</td>\n      <td>-0.118975</td>\n      <td>0.122100</td>\n      <td>...</td>\n      <td>-0.092234</td>\n      <td>0.056870</td>\n      <td>0.013640</td>\n      <td>0.042696</td>\n      <td>0.013683</td>\n      <td>-0.021127</td>\n      <td>-0.189257</td>\n      <td>0.055315</td>\n      <td>0.101863</td>\n      <td>NaN</td>\n    </tr>\n    <tr>\n      <th>4</th>\n      <td>0.091231</td>\n      <td>0.022526</td>\n      <td>0.059349</td>\n      <td>-0.141853</td>\n      <td>0.035025</td>\n      <td>-0.111040</td>\n      <td>-0.127337</td>\n      <td>0.047645</td>\n      <td>-0.172328</td>\n      <td>0.090933</td>\n      <td>...</td>\n      <td>-0.046994</td>\n      <td>-0.056248</td>\n      <td>-0.146538</td>\n      <td>0.121375</td>\n      <td>-0.211757</td>\n      <td>0.077591</td>\n      <td>-0.002200</td>\n      <td>-0.053880</td>\n      <td>0.140873</td>\n      <td>NaN</td>\n    </tr>\n    <tr>\n      <th>...</th>\n      <td>...</td>\n      <td>...</td>\n      <td>...</td>\n      <td>...</td>\n      <td>...</td>\n      <td>...</td>\n      <td>...</td>\n      <td>...</td>\n      <td>...</td>\n      <td>...</td>\n      <td>...</td>\n      <td>...</td>\n      <td>...</td>\n      <td>...</td>\n      <td>...</td>\n      <td>...</td>\n      <td>...</td>\n      <td>...</td>\n      <td>...</td>\n      <td>...</td>\n      <td>...</td>\n    </tr>\n    <tr>\n      <th>1086</th>\n      <td>-0.019021</td>\n      <td>0.001183</td>\n      <td>-0.009602</td>\n      <td>-0.040833</td>\n      <td>-0.026919</td>\n      <td>-0.000777</td>\n      <td>-0.008379</td>\n      <td>0.002261</td>\n      <td>-0.010804</td>\n      <td>0.026316</td>\n      <td>...</td>\n      <td>-0.032050</td>\n      <td>-0.002357</td>\n      <td>-0.049197</td>\n      <td>-0.023061</td>\n      <td>-0.027072</td>\n      <td>0.035122</td>\n      <td>-0.006339</td>\n      <td>-0.028845</td>\n      <td>-0.005709</td>\n      <td>NaN</td>\n    </tr>\n    <tr>\n      <th>1087</th>\n      <td>-0.018365</td>\n      <td>0.028526</td>\n      <td>-0.025934</td>\n      <td>0.032296</td>\n      <td>-0.015580</td>\n      <td>-0.012719</td>\n      <td>-0.009017</td>\n      <td>0.006737</td>\n      <td>-0.001155</td>\n      <td>-0.029791</td>\n      <td>...</td>\n      <td>-0.006468</td>\n      <td>-0.006864</td>\n      <td>0.004695</td>\n      <td>-0.015650</td>\n      <td>0.031345</td>\n      <td>-0.008722</td>\n      <td>0.024273</td>\n      <td>0.001479</td>\n      <td>0.032974</td>\n      <td>NaN</td>\n    </tr>\n    <tr>\n      <th>1088</th>\n      <td>-0.026819</td>\n      <td>0.003231</td>\n      <td>-0.011298</td>\n      <td>-0.015206</td>\n      <td>0.013172</td>\n      <td>-0.033084</td>\n      <td>0.026422</td>\n      <td>-0.005384</td>\n      <td>0.033045</td>\n      <td>0.010320</td>\n      <td>...</td>\n      <td>-0.002927</td>\n      <td>-0.013136</td>\n      <td>0.018877</td>\n      <td>-0.015216</td>\n      <td>-0.006110</td>\n      <td>0.013847</td>\n      <td>-0.002365</td>\n      <td>0.034509</td>\n      <td>-0.003884</td>\n      <td>NaN</td>\n    </tr>\n    <tr>\n      <th>1089</th>\n      <td>0.003554</td>\n      <td>-0.041121</td>\n      <td>-0.010559</td>\n      <td>-0.037862</td>\n      <td>-0.003736</td>\n      <td>-0.002184</td>\n      <td>-0.015868</td>\n      <td>0.029463</td>\n      <td>0.023216</td>\n      <td>0.006384</td>\n      <td>...</td>\n      <td>0.020671</td>\n      <td>-0.011002</td>\n      <td>0.041005</td>\n      <td>-0.022877</td>\n      <td>-0.055011</td>\n      <td>0.002874</td>\n      <td>-0.014109</td>\n      <td>-0.012319</td>\n      <td>-0.004955</td>\n      <td>NaN</td>\n    </tr>\n    <tr>\n      <th>1090</th>\n      <td>-0.023617</td>\n      <td>-0.021648</td>\n      <td>0.009369</td>\n      <td>-0.021757</td>\n      <td>0.020885</td>\n      <td>-0.020526</td>\n      <td>-0.027134</td>\n      <td>0.005834</td>\n      <td>0.026317</td>\n      <td>-0.027069</td>\n      <td>...</td>\n      <td>-0.023417</td>\n      <td>0.013911</td>\n      <td>-0.007208</td>\n      <td>0.012723</td>\n      <td>-0.008430</td>\n      <td>-0.005681</td>\n      <td>0.022748</td>\n      <td>-0.018340</td>\n      <td>0.006243</td>\n      <td>NaN</td>\n    </tr>\n  </tbody>\n</table>\n<p>1091 rows × 101 columns</p>\n</div>"
     },
     "execution_count": 22,
     "metadata": {},
     "output_type": "execute_result"
    }
   ],
   "source": [
    "pd.read_csv(config['data']['relation_embedding'], sep='\\t', header=None, encoding='utf-8')"
   ],
   "metadata": {
    "collapsed": false
   }
  },
  {
   "cell_type": "code",
   "execution_count": 24,
   "outputs": [],
   "source": [
    "fp_entity_embedding = pd.read_csv(config['data']['entity_embedding'], sep='\\t', header=None, encoding='utf-8').to_numpy(dtype=np.float16)\n",
    "fp_entity_embedding = np.vstack([np.zeros(config['model']['entity_embedding_dim']),fp_entity_embedding[:,:100]]).astype(dtype=np.float16)"
   ],
   "metadata": {
    "collapsed": false
   }
  },
  {
   "cell_type": "code",
   "execution_count": null,
   "outputs": [
    {
     "name": "stdout",
     "output_type": "stream",
     "text": [
      "constructing embedding ... but optimized...\n"
     ]
    }
   ],
   "source": [
    "from KRED_LAJ.utils.util import construct_embedding_mind_optmized\n",
    "\n",
    "construct_embedding_mind_optmized(config)"
   ],
   "metadata": {
    "collapsed": false,
    "pycharm": {
     "is_executing": true
    }
   }
  },
  {
   "cell_type": "code",
   "execution_count": 7,
   "outputs": [
    {
     "ename": "AttributeError",
     "evalue": "'DataFrame' object has no attribute 'data'",
     "output_type": "error",
     "traceback": [
      "\u001B[0;31m---------------------------------------------------------------------------\u001B[0m",
      "\u001B[0;31mAttributeError\u001B[0m                            Traceback (most recent call last)",
      "Cell \u001B[0;32mIn [7], line 1\u001B[0m\n\u001B[0;32m----> 1\u001B[0m \u001B[43mentity2vecd100\u001B[49m\u001B[38;5;241;43m.\u001B[39;49m\u001B[43mdata\u001B[49m\n",
      "File \u001B[0;32m~/KRED_LAJ/venv/lib/python3.10/site-packages/pandas/core/generic.py:5902\u001B[0m, in \u001B[0;36mNDFrame.__getattr__\u001B[0;34m(self, name)\u001B[0m\n\u001B[1;32m   5895\u001B[0m \u001B[38;5;28;01mif\u001B[39;00m (\n\u001B[1;32m   5896\u001B[0m     name \u001B[38;5;129;01mnot\u001B[39;00m \u001B[38;5;129;01min\u001B[39;00m \u001B[38;5;28mself\u001B[39m\u001B[38;5;241m.\u001B[39m_internal_names_set\n\u001B[1;32m   5897\u001B[0m     \u001B[38;5;129;01mand\u001B[39;00m name \u001B[38;5;129;01mnot\u001B[39;00m \u001B[38;5;129;01min\u001B[39;00m \u001B[38;5;28mself\u001B[39m\u001B[38;5;241m.\u001B[39m_metadata\n\u001B[1;32m   5898\u001B[0m     \u001B[38;5;129;01mand\u001B[39;00m name \u001B[38;5;129;01mnot\u001B[39;00m \u001B[38;5;129;01min\u001B[39;00m \u001B[38;5;28mself\u001B[39m\u001B[38;5;241m.\u001B[39m_accessors\n\u001B[1;32m   5899\u001B[0m     \u001B[38;5;129;01mand\u001B[39;00m \u001B[38;5;28mself\u001B[39m\u001B[38;5;241m.\u001B[39m_info_axis\u001B[38;5;241m.\u001B[39m_can_hold_identifiers_and_holds_name(name)\n\u001B[1;32m   5900\u001B[0m ):\n\u001B[1;32m   5901\u001B[0m     \u001B[38;5;28;01mreturn\u001B[39;00m \u001B[38;5;28mself\u001B[39m[name]\n\u001B[0;32m-> 5902\u001B[0m \u001B[38;5;28;01mreturn\u001B[39;00m \u001B[38;5;28;43mobject\u001B[39;49m\u001B[38;5;241;43m.\u001B[39;49m\u001B[38;5;21;43m__getattribute__\u001B[39;49m\u001B[43m(\u001B[49m\u001B[38;5;28;43mself\u001B[39;49m\u001B[43m,\u001B[49m\u001B[43m \u001B[49m\u001B[43mname\u001B[49m\u001B[43m)\u001B[49m\n",
      "\u001B[0;31mAttributeError\u001B[0m: 'DataFrame' object has no attribute 'data'"
     ]
    }
   ],
   "source": [
    "entity2vecd100\n",
    "#gensim"
   ],
   "metadata": {
    "collapsed": false
   }
  },
  {
   "cell_type": "code",
   "execution_count": 37,
   "outputs": [
    {
     "data": {
      "text/plain": "2557658.6328125"
     },
     "execution_count": 37,
     "metadata": {},
     "output_type": "execute_result"
    }
   ],
   "source": [
    "entity2vecd100.memory_usage(deep=True).sum()/1024"
   ],
   "metadata": {
    "collapsed": false
   }
  },
  {
   "cell_type": "code",
   "execution_count": null,
   "outputs": [],
   "source": [
    "from utils.util import construct_embedding_mind\n",
    "construct_embedding_mind(config)"
   ],
   "metadata": {
    "collapsed": false
   }
  }
 ],
 "metadata": {
  "kernelspec": {
   "display_name": "Python 3",
   "language": "python",
   "name": "python3"
  },
  "language_info": {
   "codemirror_mode": {
    "name": "ipython",
    "version": 2
   },
   "file_extension": ".py",
   "mimetype": "text/x-python",
   "name": "python",
   "nbconvert_exporter": "python",
   "pygments_lexer": "ipython2",
   "version": "2.7.6"
  }
 },
 "nbformat": 4,
 "nbformat_minor": 0
}
