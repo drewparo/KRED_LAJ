{
 "cells": [
  {
   "cell_type": "code",
   "execution_count": 5,
   "metadata": {
    "collapsed": true
   },
   "outputs": [],
   "source": [
    "import pickle\n",
    "import sys\n",
    "\n"
   ]
  },
  {
   "cell_type": "code",
   "execution_count": 6,
   "outputs": [],
   "source": [
    "import numpy as np\n",
    "from scipy import sparse"
   ],
   "metadata": {
    "collapsed": false
   }
  },
  {
   "cell_type": "code",
   "execution_count": 16,
   "metadata": {},
   "outputs": [],
   "source": [
    "entity_adj_array = np.asarray(entity_adj[:len(entity_adj)-1], dtype=np.int32)"
   ]
  },
  {
   "cell_type": "code",
   "execution_count": 17,
   "outputs": [],
   "source": [
    "relation_adj_array = np.asarray(relation_adj[:len(relation_adj)-1], dtype=np.int32)"
   ],
   "metadata": {
    "collapsed": false
   }
  },
  {
   "cell_type": "code",
   "execution_count": 18,
   "outputs": [],
   "source": [
    "from scipy import sparse\n",
    "s_entity_adj_array = sparse.csr_matrix(entity_adj_array)\n",
    "s_relation_adj_array = sparse.csr_matrix(relation_adj_array)"
   ],
   "metadata": {
    "collapsed": false
   }
  },
  {
   "cell_type": "code",
   "execution_count": 20,
   "outputs": [
    {
     "name": "stdout",
     "output_type": "stream",
     "text": [
      "Collecting Pympler\r\n",
      "  Downloading Pympler-1.0.1-py3-none-any.whl (164 kB)\r\n",
      "     |████████████████████████████████| 164 kB 4.7 MB/s            \r\n",
      "\u001B[?25hInstalling collected packages: Pympler\r\n",
      "Successfully installed Pympler-1.0.1\r\n",
      "\u001B[33mWARNING: You are using pip version 21.3.1; however, version 22.3.1 is available.\r\n",
      "You should consider upgrading via the '/Users/andreaparolin/KRED_LAJ/venv/bin/python -m pip install --upgrade pip' command.\u001B[0m\r\n"
     ]
    }
   ],
   "source": [
    "!pip install Pympler"
   ],
   "metadata": {
    "collapsed": false
   }
  },
  {
   "cell_type": "code",
   "execution_count": 23,
   "outputs": [
    {
     "data": {
      "text/plain": "False"
     },
     "execution_count": 23,
     "metadata": {},
     "output_type": "execute_result"
    }
   ],
   "source": [
    "from pympler import asizeof\n",
    "asizeof.asizeof(s_entity_adj_array) < asizeof.asizeof(entity_adj_array)"
   ],
   "metadata": {
    "collapsed": false
   }
  },
  {
   "cell_type": "code",
   "execution_count": 25,
   "outputs": [
    {
     "data": {
      "text/plain": "0.17197392004845669"
     },
     "execution_count": 25,
     "metadata": {},
     "output_type": "execute_result"
    }
   ],
   "source": [
    "asizeof.asizeof(entity_adj_array) / asizeof.asizeof(entity_adj)"
   ],
   "metadata": {
    "collapsed": false
   }
  },
  {
   "cell_type": "code",
   "execution_count": 27,
   "outputs": [],
   "source": [
    "with open('./data/kg/adj_mind/relation_adj.npy', 'wb') as f:\n",
    "    np.save(f, relation_adj_array)\n",
    "with open('./data/kg/adj_mind/entity_adj.npy', 'wb') as f:\n",
    "    np.save(f, entity_adj_array)"
   ],
   "metadata": {
    "collapsed": false
   }
  },
  {
   "cell_type": "code",
   "execution_count": 11,
   "outputs": [],
   "source": [
    "sparse_e_r = {\n",
    "    'is_sparse': True,\n",
    "    'entity_adj':s_entity_adj_array,\n",
    "    'relation_adj':s_relation_adj_array\n",
    "}"
   ],
   "metadata": {
    "collapsed": false
   }
  },
  {
   "cell_type": "code",
   "execution_count": 35,
   "outputs": [],
   "source": [
    "sparse.save_npz(\"./data/kg/adj_mind/relation_adj.npz\", s_relation_adj_array)"
   ],
   "metadata": {
    "collapsed": false
   }
  },
  {
   "cell_type": "code",
   "execution_count": 12,
   "outputs": [],
   "source": [
    "with open('kg_sparse.pkl', 'wb') as file:\n",
    "    pickle.dump(sparse_e_r,file)\n"
   ],
   "metadata": {
    "collapsed": false
   }
  },
  {
   "cell_type": "code",
   "execution_count": null,
   "outputs": [],
   "source": [],
   "metadata": {
    "collapsed": false
   }
  },
  {
   "cell_type": "code",
   "execution_count": 8,
   "outputs": [],
   "source": [
    "import sys\n",
    "import os\n",
    "#sys.path.append('/content/KRED_LAJ')\n",
    "\n",
    "import argparse\n",
    "from parse_config import ConfigParser\n",
    "\n",
    "\n",
    "parser = argparse.ArgumentParser(description='KRED')\n",
    "\n",
    "parser.add_argument('-f')\n",
    "\n",
    "\n",
    "parser.add_argument('-c', '--config', default=\"./config.json\", type=str,\n",
    "                    help='config file path (default: None)')\n",
    "parser.add_argument('-r', '--resume', default=None, type=str,\n",
    "                    help='path to latest checkpoint (default: None)')\n",
    "parser.add_argument('-d', '--device', default='1', type=str,\n",
    "                    help='indices of GPUs to enable (default: all)')\n",
    "\n",
    "config = ConfigParser.from_args(parser)"
   ],
   "metadata": {
    "collapsed": false
   }
  },
  {
   "cell_type": "code",
   "execution_count": 9,
   "outputs": [],
   "source": [
    "from utils.util import construct_adj_mind\n",
    "entity_adj, relation_adj = construct_adj_mind(config)"
   ],
   "metadata": {
    "collapsed": false
   }
  },
  {
   "cell_type": "code",
   "execution_count": 11,
   "outputs": [
    {
     "data": {
      "text/plain": "[89565,\n 3274594,\n 2451073,\n 1068428,\n 3274594,\n 89565,\n 2451073,\n 2143702,\n 1829027,\n 2238612,\n 1068428,\n 2238612,\n 3096526,\n 1509587,\n 89565,\n 3235494,\n 3106670,\n 90670,\n 2399047,\n 30]"
     },
     "execution_count": 11,
     "metadata": {},
     "output_type": "execute_result"
    }
   ],
   "source": [
    "entity_adj[35].tolist()"
   ],
   "metadata": {
    "collapsed": false
   }
  },
  {
   "cell_type": "code",
   "execution_count": 12,
   "outputs": [
    {
     "data": {
      "text/plain": "3275148"
     },
     "execution_count": 12,
     "metadata": {},
     "output_type": "execute_result"
    }
   ],
   "source": [
    "max(max(entity_adj))"
   ],
   "metadata": {
    "collapsed": false
   }
  },
  {
   "cell_type": "code",
   "execution_count": 5,
   "outputs": [
    {
     "data": {
      "text/plain": "3275151"
     },
     "execution_count": 5,
     "metadata": {},
     "output_type": "execute_result"
    }
   ],
   "source": [
    "len(entity_adj)"
   ],
   "metadata": {
    "collapsed": false
   }
  },
  {
   "cell_type": "code",
   "execution_count": null,
   "outputs": [],
   "source": [],
   "metadata": {
    "collapsed": false
   }
  },
  {
   "cell_type": "code",
   "execution_count": 7,
   "outputs": [
    {
     "ename": "IndentationError",
     "evalue": "unexpected indent (4293928609.py, line 3)",
     "output_type": "error",
     "traceback": [
      "\u001B[0;36m  Cell \u001B[0;32mIn [7], line 3\u001B[0;36m\u001B[0m\n\u001B[0;31m    if os.path.exists(config['data']['sparse_adj_entity']) and os.path.exists(config['data']['sparse_adj_relation']):\u001B[0m\n\u001B[0m    ^\u001B[0m\n\u001B[0;31mIndentationError\u001B[0m\u001B[0;31m:\u001B[0m unexpected indent\n"
     ]
    }
   ],
   "source": [
    "import os\n",
    "import numpy as np\n",
    " if os.path.exists(config['data']['sparse_adj_entity']) and os.path.exists(config['data']['sparse_adj_relation']):\n",
    "    sparse_adj_entity = np.load(config['data']['sparse_adj_entity'])\n",
    "    sparse_adj_relation = np.load(config['data']['sparse_adj_relation'])"
   ],
   "metadata": {
    "collapsed": false
   }
  },
  {
   "cell_type": "code",
   "execution_count": null,
   "outputs": [],
   "source": [],
   "metadata": {
    "collapsed": false
   }
  }
 ],
 "metadata": {
  "kernelspec": {
   "display_name": "Python 3 (ipykernel)",
   "language": "python",
   "name": "python3"
  },
  "language_info": {
   "codemirror_mode": {
    "name": "ipython",
    "version": 3
   },
   "file_extension": ".py",
   "mimetype": "text/x-python",
   "name": "python",
   "nbconvert_exporter": "python",
   "pygments_lexer": "ipython3",
   "version": "3.10.8"
  }
 },
 "nbformat": 4,
 "nbformat_minor": 1
}
