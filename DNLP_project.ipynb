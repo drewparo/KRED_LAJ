{
 "cells": [
  {
   "cell_type": "code",
   "execution_count": 1,
   "metadata": {},
   "outputs": [],
   "source": [
    "#!conda install pytorch torchvision torchaudio -c pytorch --yes\n",
    "\n",
    "import torch"
   ]
  },
  {
   "cell_type": "code",
   "execution_count": 2,
   "metadata": {
    "id": "ihMUwzlKF8cr"
   },
   "outputs": [],
   "source": [
    "import os\n",
    "\n",
    "from utils.util import *\n",
    "from train_test import *"
   ]
  },
  {
   "cell_type": "code",
   "execution_count": 3,
   "outputs": [
    {
     "name": "stdout",
     "output_type": "stream",
     "text": [
      "description.txt     entity_adj.npy   relation2vecd100.vec  wikidata-graph.tsv\r\n",
      "entity2id.txt\t    label.txt\t     relation_adj.npy\r\n",
      "entity2vecd100.vec  relation2id.txt  triple2id.txt\r\n"
     ]
    }
   ],
   "source": [
    "!ls /datasets/mind_kg"
   ],
   "metadata": {
    "collapsed": false
   }
  },
  {
   "cell_type": "code",
   "execution_count": 4,
   "outputs": [
    {
     "name": "stdout",
     "output_type": "stream",
     "text": [
      "behaviors.tsv  entity_embedding.vec  news.tsv  relation_embedding.vec\r\n"
     ]
    }
   ],
   "source": [
    "!ls /datasets/mind_train"
   ],
   "metadata": {
    "collapsed": false
   }
  },
  {
   "cell_type": "code",
   "execution_count": 5,
   "outputs": [
    {
     "name": "stdout",
     "output_type": "stream",
     "text": [
      "behaviors.tsv  entity_embedding.vec  news.tsv  relation_embedding.vec\r\n"
     ]
    }
   ],
   "source": [
    "!ls /datasets/mind_val"
   ],
   "metadata": {
    "collapsed": false
   }
  },
  {
   "cell_type": "code",
   "execution_count": 6,
   "metadata": {
    "colab": {
     "base_uri": "https://localhost:8080/"
    },
    "id": "WFqGbb7AN84n",
    "outputId": "4c5214cb-559b-48a0-c7ec-b8f07921a243"
   },
   "outputs": [],
   "source": [
    "MIND_type = 'small'\n",
    "data_path = \"/datasets/\"\n",
    "\n",
    "train_news_file = os.path.join(data_path, 'mind_train', r'news.tsv')\n",
    "train_behaviors_file = os.path.join(data_path, 'mind_train', r'behaviors.tsv')\n",
    "valid_news_file = os.path.join(data_path, 'mind_val', r'news.tsv')\n",
    "valid_behaviors_file = os.path.join(data_path, 'mind_val', r'behaviors.tsv')\n",
    "knowledge_graph_file = os.path.join(data_path, 'mind_kg', r'wikidata-graph.tsv')\n",
    "entity_embedding_file = os.path.join(data_path, 'mind_kg', r'entity2vecd100.vec')\n",
    "relation_embedding_file = os.path.join(data_path, 'mind_kg', r'relation2vecd100.vec')\n",
    "\n",
    "mind_url, mind_train_dataset, mind_dev_dataset, _ = get_mind_data_set(MIND_type)\n",
    "\n",
    "\n",
    "if not os.path.exists(train_news_file):\n",
    "    download_deeprec_resources(mind_url, os.path.join(data_path, 'train'), mind_train_dataset)\n",
    "    \n",
    "if not os.path.exists(valid_news_file):\n",
    "    download_deeprec_resources(mind_url, \\\n",
    "                               os.path.join(data_path, 'valid'), mind_dev_dataset)\n",
    "\n",
    "kg_url = \"https://kredkg.blob.core.windows.net/wikidatakg/\"\n"
   ]
  },
  {
   "cell_type": "code",
   "execution_count": 7,
   "metadata": {
    "id": "g_wFBRK2Ye7S"
   },
   "outputs": [],
   "source": [
    "import sys\n",
    "import os\n",
    "#sys.path.append('/content/KRED_LAJ')\n",
    "\n",
    "import argparse\n",
    "from parse_config import ConfigParser\n",
    "\n",
    "\n",
    "parser = argparse.ArgumentParser(description='KRED')\n",
    "\n",
    "parser.add_argument('-f')\n",
    "\n",
    "\n",
    "parser.add_argument('-c', '--config', default=\"./config.json\", type=str,\n",
    "                    help='config file path (default: None)')\n",
    "parser.add_argument('-r', '--resume', default=None, type=str,\n",
    "                    help='path to latest checkpoint (default: None)')\n",
    "parser.add_argument('-d', '--device', default=None, type=str,\n",
    "                    help='indices of GPUs to enable (default: all)')\n",
    "\n",
    "config = ConfigParser.from_args(parser)"
   ]
  },
  {
   "cell_type": "code",
   "execution_count": 8,
   "metadata": {
    "colab": {
     "base_uri": "https://localhost:8080/"
    },
    "id": "S-biex9TQ2d8",
    "outputId": "0388d377-4946-40c4-dd32-50875c832585"
   },
   "outputs": [
    {
     "data": {
      "text/plain": "{'train_news': '/datasets/mind_train/news.tsv',\n 'train_behavior': '/datasets/mind_train/behaviors.tsv',\n 'valid_news': '/datasets/mind_val/news.tsv',\n 'valid_behavior': './datasets/mind_val/behaviors.tsv',\n 'knowledge_graph': '/datasets/mind_kg/triple2id.txt',\n 'entity_embedding': '/datasets/mind_kg/entity2vecd100.vec',\n 'relation_embedding': '/datasets/mind_kg/relation2vecd100.vec',\n 'entity_index': '/datasets/mind_kg/entity2id.txt',\n 'relation_index': '/datasets/mind_kg/realtion2id.txt',\n 'sparse_adj_entity': '/datasets/mind_kg/entity_adj.npy',\n 'sparse_adj_relation': '/datasets/mind_kg/relation_adj.npy'}"
     },
     "execution_count": 8,
     "metadata": {},
     "output_type": "execute_result"
    }
   ],
   "source": [
    "config['data']"
   ]
  },
  {
   "cell_type": "code",
   "execution_count": 10,
   "metadata": {
    "colab": {
     "base_uri": "https://localhost:8080/",
     "height": 35
    },
    "id": "e-ZmuhfQZ7CJ",
    "outputId": "7cad6d96-4b09-4a5f-dadf-a3a4f927088e"
   },
   "outputs": [
    {
     "data": {
      "text/plain": "'/datasets/mind_kg/triple2id.txt'"
     },
     "execution_count": 10,
     "metadata": {},
     "output_type": "execute_result"
    }
   ],
   "source": [
    "epochs = 5\n",
    "batch_size = 64\n",
    "train_type = \"single_task\"\n",
    "task = \"user2item\" # task should be within: user2item, item2item, vert_classify, pop_predict\n",
    "\n",
    "config['trainer']['epochs'] = epochs\n",
    "config['data_loader']['batch_size'] = batch_size\n",
    "config['trainer']['training_type'] = train_type\n",
    "config['trainer']['task'] = task\n",
    "\n",
    "config['data']['knowledge_graph']"
   ]
  },
  {
   "cell_type": "code",
   "execution_count": 11,
   "metadata": {},
   "outputs": [],
   "source": [
    "entity_adj, relation_adj = construct_adj_mind(config)"
   ]
  },
  {
   "cell_type": "code",
   "execution_count": 12,
   "outputs": [
    {
     "name": "stdout",
     "output_type": "stream",
     "text": [
      "Feature encoding done\n"
     ]
    }
   ],
   "source": [
    "news_feature, max_entity_freq, max_entity_pos, max_entity_type = build_news_features_mind(config)"
   ],
   "metadata": {
    "collapsed": false
   }
  },
  {
   "cell_type": "code",
   "execution_count": null,
   "metadata": {},
   "outputs": [],
   "source": [
    "data = load_data_mind(config) ##problems with RAM"
   ]
  },
  {
   "cell_type": "code",
   "execution_count": null,
   "metadata": {},
   "outputs": [],
   "source": [
    "print(1)"
   ]
  },
  {
   "cell_type": "code",
   "execution_count": null,
   "metadata": {
    "id": "GzCuf9G-Qs2P"
   },
   "outputs": [],
   "source": [
    "if train_type == \"single_task\":\n",
    "    single_task_training(config, data)\n",
    "else:\n",
    "    multi_task_training(config, data)"
   ]
  },
  {
   "cell_type": "code",
   "execution_count": null,
   "metadata": {
    "id": "E0V1x35cJPi1"
   },
   "outputs": [],
   "source": [
    "test_data = data[-1]\n",
    "testing(test_data, config)"
   ]
  }
 ],
 "metadata": {
  "accelerator": "GPU",
  "colab": {
   "provenance": []
  },
  "gpuClass": "standard",
  "kernelspec": {
   "display_name": "Python 3 (ipykernel)",
   "language": "python",
   "name": "python3"
  },
  "language_info": {
   "codemirror_mode": {
    "name": "ipython",
    "version": 3
   },
   "file_extension": ".py",
   "mimetype": "text/x-python",
   "name": "python",
   "nbconvert_exporter": "python",
   "pygments_lexer": "ipython3",
   "version": "3.10.8"
  }
 },
 "nbformat": 4,
 "nbformat_minor": 1
}
