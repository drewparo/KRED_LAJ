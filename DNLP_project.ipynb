{
 "cells": [
  {
   "cell_type": "code",
   "execution_count": 1,
   "metadata": {},
   "outputs": [],
   "source": [
    "#!conda install pytorch torchvision torchaudio -c pytorch --yes\n",
    "\n",
    "import torch"
   ]
  },
  {
   "cell_type": "code",
   "execution_count": 1,
   "metadata": {
    "id": "ihMUwzlKF8cr"
   },
   "outputs": [],
   "source": [
    "import os\n",
    "\n",
    "from utils.util import *\n",
    "from train_test import *"
   ]
  },
  {
   "cell_type": "code",
   "execution_count": 2,
   "metadata": {
    "colab": {
     "base_uri": "https://localhost:8080/"
    },
    "id": "WFqGbb7AN84n",
    "outputId": "4c5214cb-559b-48a0-c7ec-b8f07921a243"
   },
   "outputs": [],
   "source": [
    "MIND_type = 'small'\n",
    "data_path = \"./data/\"\n",
    "\n",
    "train_news_file = os.path.join(data_path, 'train', r'news.tsv')\n",
    "train_behaviors_file = os.path.join(data_path, 'train', r'behaviors.tsv')\n",
    "valid_news_file = os.path.join(data_path, 'valid', r'news.tsv')\n",
    "valid_behaviors_file = os.path.join(data_path, 'valid', r'behaviors.tsv')\n",
    "knowledge_graph_file = os.path.join(data_path, 'kg/wikidata-graph', r'wikidata-graph.tsv')\n",
    "entity_embedding_file = os.path.join(data_path, 'kg/wikidata-graph', r'entity2vecd100.vec')\n",
    "relation_embedding_file = os.path.join(data_path, 'kg/wikidata-graph', r'relation2vecd100.vec')\n",
    "\n",
    "mind_url, mind_train_dataset, mind_dev_dataset, _ = get_mind_data_set(MIND_type)\n",
    "\n",
    "\n",
    "if not os.path.exists(train_news_file):\n",
    "    download_deeprec_resources(mind_url, os.path.join(data_path, 'train'), mind_train_dataset)\n",
    "    \n",
    "if not os.path.exists(valid_news_file):\n",
    "    download_deeprec_resources(mind_url, \\\n",
    "                               os.path.join(data_path, 'valid'), mind_dev_dataset)\n",
    "\n",
    "kg_url = \"https://kredkg.blob.core.windows.net/wikidatakg/\"\n"
   ]
  },
  {
   "cell_type": "code",
   "execution_count": 3,
   "metadata": {},
   "outputs": [],
   "source": [
    "if not os.path.exists(knowledge_graph_file):\n",
    "    download_deeprec_resources(kg_url, os.path.join(data_path, 'kg'), \"kg.zip\")"
   ]
  },
  {
   "cell_type": "code",
   "execution_count": 5,
   "metadata": {
    "id": "2-y-xZpkYHDe"
   },
   "outputs": [],
   "source": [
    "#!unzip /content/KRED_LAJ/KRED_LAJ/data/kg/kg.zip"
   ]
  },
  {
   "cell_type": "code",
   "execution_count": 4,
   "metadata": {
    "id": "g_wFBRK2Ye7S"
   },
   "outputs": [],
   "source": [
    "import sys\n",
    "import os\n",
    "#sys.path.append('/content/KRED_LAJ')\n",
    "\n",
    "import argparse\n",
    "from parse_config import ConfigParser\n",
    "\n",
    "\n",
    "parser = argparse.ArgumentParser(description='KRED')\n",
    "\n",
    "parser.add_argument('-f')\n",
    "\n",
    "\n",
    "parser.add_argument('-c', '--config', default=\"./config.json\", type=str,\n",
    "                    help='config file path (default: None)')\n",
    "parser.add_argument('-r', '--resume', default=None, type=str,\n",
    "                    help='path to latest checkpoint (default: None)')\n",
    "parser.add_argument('-d', '--device', default=None, type=str,\n",
    "                    help='indices of GPUs to enable (default: all)')\n",
    "\n",
    "config = ConfigParser.from_args(parser)"
   ]
  },
  {
   "cell_type": "code",
   "execution_count": 5,
   "metadata": {},
   "outputs": [
    {
     "data": {
      "text/plain": "ArgumentParser(prog='ipykernel_launcher.py', usage=None, description='KRED', formatter_class=<class 'argparse.HelpFormatter'>, conflict_handler='error', add_help=True)"
     },
     "execution_count": 5,
     "metadata": {},
     "output_type": "execute_result"
    }
   ],
   "source": [
    "parser"
   ]
  },
  {
   "cell_type": "code",
   "execution_count": 6,
   "metadata": {
    "id": "oS32Mj0wMgZo"
   },
   "outputs": [],
   "source": [
    "#a che serve?!\n",
    "#import parse_config\n",
    "#from importlib import reload\n",
    "\n",
    "#parse_config = reload(parse_config)"
   ]
  },
  {
   "cell_type": "code",
   "execution_count": 7,
   "metadata": {
    "colab": {
     "base_uri": "https://localhost:8080/"
    },
    "id": "S-biex9TQ2d8",
    "outputId": "0388d377-4946-40c4-dd32-50875c832585"
   },
   "outputs": [
    {
     "data": {
      "text/plain": "{'train_news': './data/train/news.tsv',\n 'train_behavior': './data/train/behaviors.tsv',\n 'valid_news': './data/valid/news.tsv',\n 'valid_behavior': './data/valid/behaviors.tsv',\n 'knowledge_graph': './data/kg/wikidata-graph/triple2id.txt',\n 'entity_embedding': './data/kg/wikidata-graph/entity2vecd100.vec',\n 'relation_embedding': './data/kg/wikidata-graph/relation2vecd100.vec',\n 'entity_index': './data/kg/wikidata-graph/entity2id.txt',\n 'relation_index': './data/kg/wikidata-graph/realtion2id.txt'}"
     },
     "execution_count": 7,
     "metadata": {},
     "output_type": "execute_result"
    }
   ],
   "source": [
    "config['data']"
   ]
  },
  {
   "cell_type": "code",
   "execution_count": 9,
   "metadata": {
    "colab": {
     "base_uri": "https://localhost:8080/"
    },
    "id": "whmUEZzlcfJv",
    "outputId": "455d2033-f848-4566-9f46-d20289d14097"
   },
   "outputs": [
    {
     "name": "stdout",
     "output_type": "stream",
     "text": [
      "DNLP_project.ipynb config.yaml        main.py            train_test.py\r\n",
      "README.md          \u001B[34mdata\u001B[m\u001B[m               \u001B[34mmodel\u001B[m\u001B[m              \u001B[34mtrainer\u001B[m\u001B[m\r\n",
      "__init__.py        framework.PNG      \u001B[34mout\u001B[m\u001B[m                \u001B[34mutils\u001B[m\u001B[m\r\n",
      "\u001B[34m__pycache__\u001B[m\u001B[m        kred_example.ipynb parse_config.py\r\n",
      "\u001B[34mbase\u001B[m\u001B[m               \u001B[34mlogger\u001B[m\u001B[m             requirements.txt\r\n"
     ]
    }
   ],
   "source": [
    "!ls ."
   ]
  },
  {
   "cell_type": "code",
   "execution_count": 10,
   "metadata": {
    "colab": {
     "base_uri": "https://localhost:8080/",
     "height": 35
    },
    "id": "e-ZmuhfQZ7CJ",
    "outputId": "7cad6d96-4b09-4a5f-dadf-a3a4f927088e"
   },
   "outputs": [
    {
     "data": {
      "text/plain": [
       "'./data/kg/wikidata-graph/triple2id.txt'"
      ]
     },
     "execution_count": 10,
     "metadata": {},
     "output_type": "execute_result"
    }
   ],
   "source": [
    "epochs = 5\n",
    "batch_size = 64\n",
    "train_type = \"single_task\"\n",
    "task = \"user2item\" # task should be within: user2item, item2item, vert_classify, pop_predict\n",
    "\n",
    "config['trainer']['epochs'] = epochs\n",
    "config['data_loader']['batch_size'] = batch_size\n",
    "config['trainer']['training_type'] = train_type\n",
    "config['trainer']['task'] = task\n",
    "\n",
    "config['data']['knowledge_graph']"
   ]
  },
  {
   "cell_type": "code",
   "execution_count": 11,
   "metadata": {},
   "outputs": [
    {
     "name": "stdout",
     "output_type": "stream",
     "text": [
      "constructing adjacency matrix ...\n"
     ]
    }
   ],
   "source": [
    "entity_adj, relation_adj = construct_adj_mind(config)"
   ]
  },
  {
   "cell_type": "code",
   "execution_count": 1,
   "metadata": {},
   "outputs": [],
   "source": [
    "data = load_data_mind(config) ##problems with RAM"
   ]
  },
  {
   "cell_type": "code",
   "execution_count": null,
   "metadata": {},
   "outputs": [],
   "source": [
    "print(1)"
   ]
  },
  {
   "cell_type": "code",
   "execution_count": null,
   "metadata": {
    "id": "GzCuf9G-Qs2P"
   },
   "outputs": [],
   "source": [
    "if train_type == \"single_task\":\n",
    "    single_task_training(config, data)\n",
    "else:\n",
    "    multi_task_training(config, data)"
   ]
  },
  {
   "cell_type": "code",
   "execution_count": null,
   "metadata": {
    "id": "E0V1x35cJPi1"
   },
   "outputs": [],
   "source": [
    "test_data = data[-1]\n",
    "testing(test_data, config)"
   ]
  }
 ],
 "metadata": {
  "accelerator": "GPU",
  "colab": {
   "provenance": []
  },
  "gpuClass": "standard",
  "kernelspec": {
   "display_name": "Python 3 (ipykernel)",
   "language": "python",
   "name": "python3"
  },
  "language_info": {
   "codemirror_mode": {
    "name": "ipython",
    "version": 3
   },
   "file_extension": ".py",
   "mimetype": "text/x-python",
   "name": "python",
   "nbconvert_exporter": "python",
   "pygments_lexer": "ipython3",
   "version": "3.10.8"
  }
 },
 "nbformat": 4,
 "nbformat_minor": 1
}
